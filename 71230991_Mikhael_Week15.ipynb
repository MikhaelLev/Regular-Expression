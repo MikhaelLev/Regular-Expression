{
  "nbformat": 4,
  "nbformat_minor": 0,
  "metadata": {
    "colab": {
      "provenance": []
    },
    "kernelspec": {
      "name": "python3",
      "display_name": "Python 3"
    },
    "language_info": {
      "name": "python"
    }
  },
  "cells": [
    {
      "cell_type": "markdown",
      "source": [
        "Latihan 14.1"
      ],
      "metadata": {
        "id": "b-KZ6_RM3aU1"
      }
    },
    {
      "cell_type": "code",
      "execution_count": 1,
      "metadata": {
        "colab": {
          "base_uri": "https://localhost:8080/"
        },
        "id": "SSZTD48v3XH3",
        "outputId": "48cde32d-0107-4949-89d7-b7f8804c9cf6"
      },
      "outputs": [
        {
          "output_type": "stream",
          "name": "stdout",
          "text": [
            "17-08-1945 selisih dari hari ini adalah 28782 hari\n",
            "11-11-1785 selisih dari hari ini adalah 87134 hari\n",
            "08-06-1783 selisih dari hari ini adalah 88021 hari\n",
            "02-05-1889 selisih dari hari ini adalah 49342 hari\n"
          ]
        }
      ],
      "source": [
        "import re\n",
        "from datetime import datetime, date\n",
        "\n",
        "pernyataan = \"Pada tanggal 1945-08-17 Indonesia merdeka. Indonesia memiliki beberapa pahlawan nasional, seperti Pangeran Diponegoro (format: 1785-11-11), Pattimura (TL: 1783-06-08) dan Ki Hajar Dewantara (1889-05-02).\"\n",
        "\n",
        "format = re.findall(r'\\b(\\d{4}-\\d{2}-\\d{2})\\b', pernyataan)\n",
        "\n",
        "hasil = []\n",
        "for i in format:\n",
        "    konversi = datetime.strptime(i, '%Y-%m-%d')\n",
        "\n",
        "    konversi2 = konversi.strftime('%d-%m-%Y')\n",
        "\n",
        "    selisih = (date.today() - konversi.date()).days\n",
        "\n",
        "    hasil.append(f'{konversi2} selisih dari hari ini adalah {selisih} hari')\n",
        "\n",
        "for hasil2 in hasil:\n",
        "    print(hasil2)"
      ]
    },
    {
      "cell_type": "markdown",
      "source": [
        "Latihan 14.2"
      ],
      "metadata": {
        "id": "ycM1d4QE3psr"
      }
    },
    {
      "cell_type": "code",
      "source": [
        "import re\n",
        "import string\n",
        "import random\n",
        "\n",
        "text = \"\"\"\n",
        "Berikut adalah daftar email dan nama pengguna dari mailing list:\n",
        "anton@mail.com dimiliki oleh antonius\n",
        "budi@gmail.co.id dimiliki oleh budi anwari\n",
        "slamet@getnada.com dimiliki oleh slamet slumut\n",
        "matahari@tokopedia.com dimiliki oleh toko matahari\n",
        "\"\"\"\n",
        "\n",
        "email = re.findall(r'\\b[A-Za-z0-9._%+-]+@[A-Za-z0-9.-]+\\.[A-Z|a-z]{2,}\\b', text)\n",
        "\n",
        "hasil = []\n",
        "for i in email:\n",
        "    username = i.split(\"@\")[0]\n",
        "    password = \"\".join(random.choice(string.ascii_letters + string.digits) for _ in range(8))\n",
        "    hasil.append(f\"{i} username: {username} , password: {password}\")\n",
        "\n",
        "for j in hasil:\n",
        "    print(j)"
      ],
      "metadata": {
        "colab": {
          "base_uri": "https://localhost:8080/"
        },
        "id": "Iur-ReS23rSe",
        "outputId": "a60b7c6b-8faf-42c9-a2bf-7731e7d912da"
      },
      "execution_count": 2,
      "outputs": [
        {
          "output_type": "stream",
          "name": "stdout",
          "text": [
            "anton@mail.com username: anton , password: E4r2NSX5\n",
            "budi@gmail.co.id username: budi , password: IZxDUNWQ\n",
            "slamet@getnada.com username: slamet , password: laEZlGbB\n",
            "matahari@tokopedia.com username: matahari , password: G3aVUU8m\n"
          ]
        }
      ]
    }
  ]
}